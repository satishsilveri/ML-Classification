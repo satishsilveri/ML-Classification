{
 "cells": [
  {
   "cell_type": "markdown",
   "metadata": {},
   "source": [
    "# Problem\n",
    "\n",
    "Build a machine learning model that can predict the severity of heart condition for a given set of reading. The severity ranges from 0 (low) to 4 (highest).\n",
    "\n",
    "Attributes to be used:\n",
    "\n",
    "1. age: age in years\n",
    "2. sex: sex (1 = male; 0 = female)\n",
    "3. cp: chest pain type\n",
    "        Value 1: typical angina\n",
    "        Value 2: atypical angina\n",
    "        Value 3: non-anginal pain\n",
    "        Value 4: asymptomatic\n",
    "4. trestbps: resting blood pressure (in mm Hg on admission to the hospital)\n",
    "5. chol: serum cholestoral in mg/dl\n",
    "6. fbs: (fasting blood sugar > 120 mg/dl) (1 = true; 0 = false)\n",
    "7. restecg: resting electrocardiographic results\n",
    "        Value 0: normal\n",
    "        Value 1: having ST-T wave abnormality (T wave inversions and/or ST elevation or depression of > 0.05 mV)\n",
    "        Value 2: showing probable or definite left ventricular hypertrophy by Estes' criteria\n",
    "8. thalach: maximum heart rate achieved\n",
    "9. exang: exercise induced angina (1 = yes; 0 = no)\n",
    "10. oldpeak = ST depression induced by exercise relative to rest\n",
    "11. slope: the slope of the peak exercise ST segment\n",
    "        Value 1: upsloping\n",
    "        Value 2: flat\n",
    "        Value 3: downsloping\n",
    "12. ca: number of major vessels (0-3) colored by flourosopy\n",
    "13. thal: 3 = normal; 6 = fixed defect; 7 = reversable defect\n",
    "14. num: diagnosis of heart disease (angiographic disease status) --- dependent variable"
   ]
  },
  {
   "cell_type": "markdown",
   "metadata": {},
   "source": [
    "# Process flow\n",
    "\n",
    "We are going to build a machine learning model using following steps,\n",
    "\n",
    "1. Reading data into dataframe.\n",
    "2. Cleaning Data.\n",
    "3. Feature Engineering.\n",
    "4. Building Model.\n",
    "5. Hyper-parameter tuning.\n",
    "6. Model Evaluation using,\n",
    "    1. Confusion Matrix.\n",
    "    2. K-fold cross valdiation."
   ]
  },
  {
   "cell_type": "markdown",
   "metadata": {},
   "source": [
    "## 1. Reading Data\n",
    "\n",
    "We will be using processed cleveland data for our model training. Lets read our data into a dataframe. A dataframe can we be viewed as an in-memory virtual table. We will be using Pandas library."
   ]
  },
  {
   "cell_type": "code",
   "execution_count": 1,
   "metadata": {},
   "outputs": [],
   "source": [
    "import pandas as pd"
   ]
  },
  {
   "cell_type": "code",
   "execution_count": 2,
   "metadata": {},
   "outputs": [],
   "source": [
    "file_path=r'C:\\Users\\satis\\Desktop\\BigData - Assigsnment 1\\data\\processed_cleveland.csv' #change path accordingly.\n",
    "\n",
    "\n",
    "data = pd.read_csv(file_path)"
   ]
  },
  {
   "cell_type": "code",
   "execution_count": 3,
   "metadata": {},
   "outputs": [
    {
     "data": {
      "text/html": [
       "<div>\n",
       "<style scoped>\n",
       "    .dataframe tbody tr th:only-of-type {\n",
       "        vertical-align: middle;\n",
       "    }\n",
       "\n",
       "    .dataframe tbody tr th {\n",
       "        vertical-align: top;\n",
       "    }\n",
       "\n",
       "    .dataframe thead th {\n",
       "        text-align: right;\n",
       "    }\n",
       "</style>\n",
       "<table border=\"1\" class=\"dataframe\">\n",
       "  <thead>\n",
       "    <tr style=\"text-align: right;\">\n",
       "      <th></th>\n",
       "      <th>63.0</th>\n",
       "      <th>1.0</th>\n",
       "      <th>1.0.1</th>\n",
       "      <th>145.0</th>\n",
       "      <th>233.0</th>\n",
       "      <th>1.0.2</th>\n",
       "      <th>2.0</th>\n",
       "      <th>150.0</th>\n",
       "      <th>0.0</th>\n",
       "      <th>2.3</th>\n",
       "      <th>3.0</th>\n",
       "      <th>0.0.1</th>\n",
       "      <th>6.0</th>\n",
       "      <th>0</th>\n",
       "    </tr>\n",
       "  </thead>\n",
       "  <tbody>\n",
       "    <tr>\n",
       "      <th>0</th>\n",
       "      <td>67.0</td>\n",
       "      <td>1.0</td>\n",
       "      <td>4.0</td>\n",
       "      <td>160.0</td>\n",
       "      <td>286.0</td>\n",
       "      <td>0.0</td>\n",
       "      <td>2.0</td>\n",
       "      <td>108.0</td>\n",
       "      <td>1.0</td>\n",
       "      <td>1.5</td>\n",
       "      <td>2.0</td>\n",
       "      <td>3.0</td>\n",
       "      <td>3.0</td>\n",
       "      <td>2</td>\n",
       "    </tr>\n",
       "    <tr>\n",
       "      <th>1</th>\n",
       "      <td>67.0</td>\n",
       "      <td>1.0</td>\n",
       "      <td>4.0</td>\n",
       "      <td>120.0</td>\n",
       "      <td>229.0</td>\n",
       "      <td>0.0</td>\n",
       "      <td>2.0</td>\n",
       "      <td>129.0</td>\n",
       "      <td>1.0</td>\n",
       "      <td>2.6</td>\n",
       "      <td>2.0</td>\n",
       "      <td>2.0</td>\n",
       "      <td>7.0</td>\n",
       "      <td>1</td>\n",
       "    </tr>\n",
       "    <tr>\n",
       "      <th>2</th>\n",
       "      <td>37.0</td>\n",
       "      <td>1.0</td>\n",
       "      <td>3.0</td>\n",
       "      <td>130.0</td>\n",
       "      <td>250.0</td>\n",
       "      <td>0.0</td>\n",
       "      <td>0.0</td>\n",
       "      <td>187.0</td>\n",
       "      <td>0.0</td>\n",
       "      <td>3.5</td>\n",
       "      <td>3.0</td>\n",
       "      <td>0.0</td>\n",
       "      <td>3.0</td>\n",
       "      <td>0</td>\n",
       "    </tr>\n",
       "    <tr>\n",
       "      <th>3</th>\n",
       "      <td>41.0</td>\n",
       "      <td>0.0</td>\n",
       "      <td>2.0</td>\n",
       "      <td>130.0</td>\n",
       "      <td>204.0</td>\n",
       "      <td>0.0</td>\n",
       "      <td>2.0</td>\n",
       "      <td>172.0</td>\n",
       "      <td>0.0</td>\n",
       "      <td>1.4</td>\n",
       "      <td>1.0</td>\n",
       "      <td>0.0</td>\n",
       "      <td>3.0</td>\n",
       "      <td>0</td>\n",
       "    </tr>\n",
       "    <tr>\n",
       "      <th>4</th>\n",
       "      <td>56.0</td>\n",
       "      <td>1.0</td>\n",
       "      <td>2.0</td>\n",
       "      <td>120.0</td>\n",
       "      <td>236.0</td>\n",
       "      <td>0.0</td>\n",
       "      <td>0.0</td>\n",
       "      <td>178.0</td>\n",
       "      <td>0.0</td>\n",
       "      <td>0.8</td>\n",
       "      <td>1.0</td>\n",
       "      <td>0.0</td>\n",
       "      <td>3.0</td>\n",
       "      <td>0</td>\n",
       "    </tr>\n",
       "  </tbody>\n",
       "</table>\n",
       "</div>"
      ],
      "text/plain": [
       "   63.0  1.0  1.0.1  145.0  233.0  1.0.2  2.0  150.0  0.0  2.3  3.0 0.0.1  \\\n",
       "0  67.0  1.0    4.0  160.0  286.0    0.0  2.0  108.0  1.0  1.5  2.0   3.0   \n",
       "1  67.0  1.0    4.0  120.0  229.0    0.0  2.0  129.0  1.0  2.6  2.0   2.0   \n",
       "2  37.0  1.0    3.0  130.0  250.0    0.0  0.0  187.0  0.0  3.5  3.0   0.0   \n",
       "3  41.0  0.0    2.0  130.0  204.0    0.0  2.0  172.0  0.0  1.4  1.0   0.0   \n",
       "4  56.0  1.0    2.0  120.0  236.0    0.0  0.0  178.0  0.0  0.8  1.0   0.0   \n",
       "\n",
       "   6.0  0  \n",
       "0  3.0  2  \n",
       "1  7.0  1  \n",
       "2  3.0  0  \n",
       "3  3.0  0  \n",
       "4  3.0  0  "
      ]
     },
     "execution_count": 3,
     "metadata": {},
     "output_type": "execute_result"
    }
   ],
   "source": [
    "data.head()"
   ]
  },
  {
   "cell_type": "markdown",
   "metadata": {},
   "source": [
    "As we can see that the column names are missing because the source file does not contain header. To solve this, we need to add columns to the dataframe."
   ]
  },
  {
   "cell_type": "code",
   "execution_count": 4,
   "metadata": {},
   "outputs": [],
   "source": [
    "data.columns=['age','sex','cp','trestbps','chol','fbs','restecg','thalach','exang','oldpeak','slope','ca','thal','num (y)']"
   ]
  },
  {
   "cell_type": "code",
   "execution_count": 5,
   "metadata": {},
   "outputs": [
    {
     "data": {
      "text/html": [
       "<div>\n",
       "<style scoped>\n",
       "    .dataframe tbody tr th:only-of-type {\n",
       "        vertical-align: middle;\n",
       "    }\n",
       "\n",
       "    .dataframe tbody tr th {\n",
       "        vertical-align: top;\n",
       "    }\n",
       "\n",
       "    .dataframe thead th {\n",
       "        text-align: right;\n",
       "    }\n",
       "</style>\n",
       "<table border=\"1\" class=\"dataframe\">\n",
       "  <thead>\n",
       "    <tr style=\"text-align: right;\">\n",
       "      <th></th>\n",
       "      <th>age</th>\n",
       "      <th>sex</th>\n",
       "      <th>cp</th>\n",
       "      <th>trestbps</th>\n",
       "      <th>chol</th>\n",
       "      <th>fbs</th>\n",
       "      <th>restecg</th>\n",
       "      <th>thalach</th>\n",
       "      <th>exang</th>\n",
       "      <th>oldpeak</th>\n",
       "      <th>slope</th>\n",
       "      <th>ca</th>\n",
       "      <th>thal</th>\n",
       "      <th>num (y)</th>\n",
       "    </tr>\n",
       "  </thead>\n",
       "  <tbody>\n",
       "    <tr>\n",
       "      <th>0</th>\n",
       "      <td>67.0</td>\n",
       "      <td>1.0</td>\n",
       "      <td>4.0</td>\n",
       "      <td>160.0</td>\n",
       "      <td>286.0</td>\n",
       "      <td>0.0</td>\n",
       "      <td>2.0</td>\n",
       "      <td>108.0</td>\n",
       "      <td>1.0</td>\n",
       "      <td>1.5</td>\n",
       "      <td>2.0</td>\n",
       "      <td>3.0</td>\n",
       "      <td>3.0</td>\n",
       "      <td>2</td>\n",
       "    </tr>\n",
       "    <tr>\n",
       "      <th>1</th>\n",
       "      <td>67.0</td>\n",
       "      <td>1.0</td>\n",
       "      <td>4.0</td>\n",
       "      <td>120.0</td>\n",
       "      <td>229.0</td>\n",
       "      <td>0.0</td>\n",
       "      <td>2.0</td>\n",
       "      <td>129.0</td>\n",
       "      <td>1.0</td>\n",
       "      <td>2.6</td>\n",
       "      <td>2.0</td>\n",
       "      <td>2.0</td>\n",
       "      <td>7.0</td>\n",
       "      <td>1</td>\n",
       "    </tr>\n",
       "    <tr>\n",
       "      <th>2</th>\n",
       "      <td>37.0</td>\n",
       "      <td>1.0</td>\n",
       "      <td>3.0</td>\n",
       "      <td>130.0</td>\n",
       "      <td>250.0</td>\n",
       "      <td>0.0</td>\n",
       "      <td>0.0</td>\n",
       "      <td>187.0</td>\n",
       "      <td>0.0</td>\n",
       "      <td>3.5</td>\n",
       "      <td>3.0</td>\n",
       "      <td>0.0</td>\n",
       "      <td>3.0</td>\n",
       "      <td>0</td>\n",
       "    </tr>\n",
       "    <tr>\n",
       "      <th>3</th>\n",
       "      <td>41.0</td>\n",
       "      <td>0.0</td>\n",
       "      <td>2.0</td>\n",
       "      <td>130.0</td>\n",
       "      <td>204.0</td>\n",
       "      <td>0.0</td>\n",
       "      <td>2.0</td>\n",
       "      <td>172.0</td>\n",
       "      <td>0.0</td>\n",
       "      <td>1.4</td>\n",
       "      <td>1.0</td>\n",
       "      <td>0.0</td>\n",
       "      <td>3.0</td>\n",
       "      <td>0</td>\n",
       "    </tr>\n",
       "    <tr>\n",
       "      <th>4</th>\n",
       "      <td>56.0</td>\n",
       "      <td>1.0</td>\n",
       "      <td>2.0</td>\n",
       "      <td>120.0</td>\n",
       "      <td>236.0</td>\n",
       "      <td>0.0</td>\n",
       "      <td>0.0</td>\n",
       "      <td>178.0</td>\n",
       "      <td>0.0</td>\n",
       "      <td>0.8</td>\n",
       "      <td>1.0</td>\n",
       "      <td>0.0</td>\n",
       "      <td>3.0</td>\n",
       "      <td>0</td>\n",
       "    </tr>\n",
       "  </tbody>\n",
       "</table>\n",
       "</div>"
      ],
      "text/plain": [
       "    age  sex   cp  trestbps   chol  fbs  restecg  thalach  exang  oldpeak  \\\n",
       "0  67.0  1.0  4.0     160.0  286.0  0.0      2.0    108.0    1.0      1.5   \n",
       "1  67.0  1.0  4.0     120.0  229.0  0.0      2.0    129.0    1.0      2.6   \n",
       "2  37.0  1.0  3.0     130.0  250.0  0.0      0.0    187.0    0.0      3.5   \n",
       "3  41.0  0.0  2.0     130.0  204.0  0.0      2.0    172.0    0.0      1.4   \n",
       "4  56.0  1.0  2.0     120.0  236.0  0.0      0.0    178.0    0.0      0.8   \n",
       "\n",
       "   slope   ca thal  num (y)  \n",
       "0    2.0  3.0  3.0        2  \n",
       "1    2.0  2.0  7.0        1  \n",
       "2    3.0  0.0  3.0        0  \n",
       "3    1.0  0.0  3.0        0  \n",
       "4    1.0  0.0  3.0        0  "
      ]
     },
     "execution_count": 5,
     "metadata": {},
     "output_type": "execute_result"
    }
   ],
   "source": [
    "data.head()"
   ]
  },
  {
   "cell_type": "markdown",
   "metadata": {},
   "source": [
    "## 2. Data Cleaning\n",
    "\n",
    "Now that we have data in proper structure, lets do some data cleansing operations. Lets analyze number of null values per column and if there are any null values, lets fill them with mean of that column.\n",
    "\n",
    "### 1. Inputing Missing Values"
   ]
  },
  {
   "cell_type": "code",
   "execution_count": 6,
   "metadata": {
    "scrolled": true
   },
   "outputs": [
    {
     "data": {
      "text/plain": [
       "age         0\n",
       "sex         0\n",
       "cp          0\n",
       "trestbps    0\n",
       "chol        0\n",
       "fbs         0\n",
       "restecg     0\n",
       "thalach     0\n",
       "exang       0\n",
       "oldpeak     0\n",
       "slope       0\n",
       "ca          0\n",
       "thal        0\n",
       "num (y)     0\n",
       "dtype: int64"
      ]
     },
     "execution_count": 6,
     "metadata": {},
     "output_type": "execute_result"
    }
   ],
   "source": [
    "data.isna().sum()"
   ]
  },
  {
   "cell_type": "markdown",
   "metadata": {},
   "source": [
    "As we can see, we do not have any missing values in any column. But when we examine data carefully, we can see that there is a '?' as a value in columns. Lets clean that first. For simplicity, we have replaced ? with 0. There are 2 columns that have '?' character viz. CA and THAL. CA is and THAL has discrete values. So the approach is to replace '?' with most occuring unique value."
   ]
  },
  {
   "cell_type": "code",
   "execution_count": 7,
   "metadata": {},
   "outputs": [
    {
     "data": {
      "text/plain": [
       "array(['3.0', '2.0', '0.0', '1.0', '?'], dtype=object)"
      ]
     },
     "execution_count": 7,
     "metadata": {},
     "output_type": "execute_result"
    }
   ],
   "source": [
    "data['ca'].unique()"
   ]
  },
  {
   "cell_type": "code",
   "execution_count": 8,
   "metadata": {},
   "outputs": [],
   "source": [
    "data['ca'] = data['ca'].replace(to_replace=['?'],value=data.ca.value_counts().idxmax())"
   ]
  },
  {
   "cell_type": "code",
   "execution_count": 9,
   "metadata": {},
   "outputs": [
    {
     "data": {
      "text/plain": [
       "array(['3.0', '2.0', '0.0', '1.0'], dtype=object)"
      ]
     },
     "execution_count": 9,
     "metadata": {},
     "output_type": "execute_result"
    }
   ],
   "source": [
    "data['ca'].unique()"
   ]
  },
  {
   "cell_type": "code",
   "execution_count": 10,
   "metadata": {},
   "outputs": [
    {
     "data": {
      "text/plain": [
       "array(['3.0', '7.0', '6.0', '?'], dtype=object)"
      ]
     },
     "execution_count": 10,
     "metadata": {},
     "output_type": "execute_result"
    }
   ],
   "source": [
    "data['thal'].unique()"
   ]
  },
  {
   "cell_type": "code",
   "execution_count": 11,
   "metadata": {},
   "outputs": [],
   "source": [
    "data['thal'] = data['thal'].replace(to_replace=['?'],value=data.thal.value_counts().idxmax())"
   ]
  },
  {
   "cell_type": "code",
   "execution_count": 12,
   "metadata": {},
   "outputs": [
    {
     "data": {
      "text/plain": [
       "array(['3.0', '7.0', '6.0'], dtype=object)"
      ]
     },
     "execution_count": 12,
     "metadata": {},
     "output_type": "execute_result"
    }
   ],
   "source": [
    "data['thal'].unique()"
   ]
  },
  {
   "cell_type": "markdown",
   "metadata": {},
   "source": [
    "From above output, we can see that '?' from both the columns have been successfully replace."
   ]
  },
  {
   "cell_type": "markdown",
   "metadata": {},
   "source": [
    "### 2. Identifying and removing outliers"
   ]
  },
  {
   "cell_type": "markdown",
   "metadata": {},
   "source": [
    "Let plot a box-plot to check if we have any outliers in data. Before that, lets prune out the columns that are not required for analysis."
   ]
  },
  {
   "cell_type": "code",
   "execution_count": 13,
   "metadata": {},
   "outputs": [],
   "source": [
    "pruned_columns=['age','trestbps','chol','thalach','oldpeak']"
   ]
  },
  {
   "cell_type": "code",
   "execution_count": 14,
   "metadata": {},
   "outputs": [],
   "source": [
    "data = data[data.columns.tolist()].astype(float)"
   ]
  },
  {
   "cell_type": "code",
   "execution_count": 15,
   "metadata": {},
   "outputs": [
    {
     "data": {
      "image/png": "[encoded data removed]",
      "text/plain": [
       "<Figure size 432x288 with 1 Axes>"
      ]
     },
     "metadata": {
      "needs_background": "light"
     },
     "output_type": "display_data"
    }
   ],
   "source": [
    "boxplot = data.boxplot(column=pruned_columns)"
   ]
  },
  {
   "cell_type": "markdown",
   "metadata": {},
   "source": [
    "Based on the above graph, columns trestbps and chol has considerable amount of outliers. So lets go ahead and clean these columns."
   ]
  },
  {
   "cell_type": "code",
   "execution_count": 16,
   "metadata": {},
   "outputs": [],
   "source": [
    "def remove_outlier(df_in, col_name):\n",
    "    q1 = df_in[col_name].quantile(0.25)\n",
    "    q3 = df_in[col_name].quantile(0.75)\n",
    "    iqr = q3-q1 #Interquartile range\n",
    "    fence_low  = q1-1.5*iqr\n",
    "    fence_high = q3+1.5*iqr\n",
    "    df_out = df_in.loc[(df_in[col_name] > fence_low) & (df_in[col_name] < fence_high)]\n",
    "    return df_out\n",
    "\n",
    "data['trestbps']=remove_outlier(data,'trestbps')\n",
    "\n",
    "data['chol']=remove_outlier(data,'chol')\n"
   ]
  },
  {
   "cell_type": "code",
   "execution_count": 17,
   "metadata": {},
   "outputs": [
    {
     "data": {
      "image/png": "[encoded data removed]",
      "text/plain": [
       "<Figure size 432x288 with 1 Axes>"
      ]
     },
     "metadata": {
      "needs_background": "light"
     },
     "output_type": "display_data"
    }
   ],
   "source": [
    "boxplot = data.boxplot(column=pruned_columns)"
   ]
  },
  {
   "cell_type": "markdown",
   "metadata": {},
   "source": [
    "From the above graph we can observe that the outliers have been removed. The data is now clean and can be used for Feature Engineering."
   ]
  },
  {
   "cell_type": "markdown",
   "metadata": {},
   "source": [
    "## 3. Feature Engineering"
   ]
  },
  {
   "cell_type": "markdown",
   "metadata": {},
   "source": [
    "Feature engineering deals with understanding the relation between independent variables and between independent & dependent variable. In other words, we need to find correlatin between input variables and input variables and output variables."
   ]
  },
  {
   "cell_type": "markdown",
   "metadata": {},
   "source": [
    "### Understanding the data"
   ]
  },
  {
   "cell_type": "markdown",
   "metadata": {},
   "source": [
    "Lets first understand the data a bit. We will be using describe funtion that will give us overall distribution of data. We will also see how the data is distributed w.r.t output values."
   ]
  },
  {
   "cell_type": "code",
   "execution_count": 18,
   "metadata": {},
   "outputs": [
    {
     "data": {
      "text/html": [
       "<div>\n",
       "<style scoped>\n",
       "    .dataframe tbody tr th:only-of-type {\n",
       "        vertical-align: middle;\n",
       "    }\n",
       "\n",
       "    .dataframe tbody tr th {\n",
       "        vertical-align: top;\n",
       "    }\n",
       "\n",
       "    .dataframe thead th {\n",
       "        text-align: right;\n",
       "    }\n",
       "</style>\n",
       "<table border=\"1\" class=\"dataframe\">\n",
       "  <thead>\n",
       "    <tr style=\"text-align: right;\">\n",
       "      <th></th>\n",
       "      <th>age</th>\n",
       "      <th>sex</th>\n",
       "      <th>cp</th>\n",
       "      <th>trestbps</th>\n",
       "      <th>chol</th>\n",
       "      <th>fbs</th>\n",
       "      <th>restecg</th>\n",
       "      <th>thalach</th>\n",
       "      <th>exang</th>\n",
       "      <th>oldpeak</th>\n",
       "      <th>slope</th>\n",
       "      <th>ca</th>\n",
       "      <th>thal</th>\n",
       "      <th>num (y)</th>\n",
       "    </tr>\n",
       "  </thead>\n",
       "  <tbody>\n",
       "    <tr>\n",
       "      <th>count</th>\n",
       "      <td>302.000000</td>\n",
       "      <td>302.000000</td>\n",
       "      <td>302.000000</td>\n",
       "      <td>289.000000</td>\n",
       "      <td>297.000000</td>\n",
       "      <td>302.000000</td>\n",
       "      <td>302.000000</td>\n",
       "      <td>302.000000</td>\n",
       "      <td>302.000000</td>\n",
       "      <td>302.000000</td>\n",
       "      <td>302.000000</td>\n",
       "      <td>302.000000</td>\n",
       "      <td>302.000000</td>\n",
       "      <td>302.000000</td>\n",
       "    </tr>\n",
       "    <tr>\n",
       "      <th>mean</th>\n",
       "      <td>54.410596</td>\n",
       "      <td>0.678808</td>\n",
       "      <td>3.165563</td>\n",
       "      <td>54.183391</td>\n",
       "      <td>54.272727</td>\n",
       "      <td>0.145695</td>\n",
       "      <td>0.986755</td>\n",
       "      <td>149.605960</td>\n",
       "      <td>0.327815</td>\n",
       "      <td>1.035430</td>\n",
       "      <td>1.596026</td>\n",
       "      <td>0.665563</td>\n",
       "      <td>4.718543</td>\n",
       "      <td>0.940397</td>\n",
       "    </tr>\n",
       "    <tr>\n",
       "      <th>std</th>\n",
       "      <td>9.040163</td>\n",
       "      <td>0.467709</td>\n",
       "      <td>0.953612</td>\n",
       "      <td>9.124007</td>\n",
       "      <td>9.039872</td>\n",
       "      <td>0.353386</td>\n",
       "      <td>0.994916</td>\n",
       "      <td>22.912959</td>\n",
       "      <td>0.470196</td>\n",
       "      <td>1.160723</td>\n",
       "      <td>0.611939</td>\n",
       "      <td>0.935142</td>\n",
       "      <td>1.940199</td>\n",
       "      <td>1.229384</td>\n",
       "    </tr>\n",
       "    <tr>\n",
       "      <th>min</th>\n",
       "      <td>29.000000</td>\n",
       "      <td>0.000000</td>\n",
       "      <td>1.000000</td>\n",
       "      <td>29.000000</td>\n",
       "      <td>29.000000</td>\n",
       "      <td>0.000000</td>\n",
       "      <td>0.000000</td>\n",
       "      <td>71.000000</td>\n",
       "      <td>0.000000</td>\n",
       "      <td>0.000000</td>\n",
       "      <td>1.000000</td>\n",
       "      <td>0.000000</td>\n",
       "      <td>3.000000</td>\n",
       "      <td>0.000000</td>\n",
       "    </tr>\n",
       "    <tr>\n",
       "      <th>25%</th>\n",
       "      <td>48.000000</td>\n",
       "      <td>0.000000</td>\n",
       "      <td>3.000000</td>\n",
       "      <td>47.000000</td>\n",
       "      <td>47.000000</td>\n",
       "      <td>0.000000</td>\n",
       "      <td>0.000000</td>\n",
       "      <td>133.250000</td>\n",
       "      <td>0.000000</td>\n",
       "      <td>0.000000</td>\n",
       "      <td>1.000000</td>\n",
       "      <td>0.000000</td>\n",
       "      <td>3.000000</td>\n",
       "      <td>0.000000</td>\n",
       "    </tr>\n",
       "    <tr>\n",
       "      <th>50%</th>\n",
       "      <td>55.500000</td>\n",
       "      <td>1.000000</td>\n",
       "      <td>3.000000</td>\n",
       "      <td>55.000000</td>\n",
       "      <td>55.000000</td>\n",
       "      <td>0.000000</td>\n",
       "      <td>0.500000</td>\n",
       "      <td>153.000000</td>\n",
       "      <td>0.000000</td>\n",
       "      <td>0.800000</td>\n",
       "      <td>2.000000</td>\n",
       "      <td>0.000000</td>\n",
       "      <td>3.000000</td>\n",
       "      <td>0.000000</td>\n",
       "    </tr>\n",
       "    <tr>\n",
       "      <th>75%</th>\n",
       "      <td>61.000000</td>\n",
       "      <td>1.000000</td>\n",
       "      <td>4.000000</td>\n",
       "      <td>61.000000</td>\n",
       "      <td>60.000000</td>\n",
       "      <td>0.000000</td>\n",
       "      <td>2.000000</td>\n",
       "      <td>166.000000</td>\n",
       "      <td>1.000000</td>\n",
       "      <td>1.600000</td>\n",
       "      <td>2.000000</td>\n",
       "      <td>1.000000</td>\n",
       "      <td>7.000000</td>\n",
       "      <td>2.000000</td>\n",
       "    </tr>\n",
       "    <tr>\n",
       "      <th>max</th>\n",
       "      <td>77.000000</td>\n",
       "      <td>1.000000</td>\n",
       "      <td>4.000000</td>\n",
       "      <td>77.000000</td>\n",
       "      <td>77.000000</td>\n",
       "      <td>1.000000</td>\n",
       "      <td>2.000000</td>\n",
       "      <td>202.000000</td>\n",
       "      <td>1.000000</td>\n",
       "      <td>6.200000</td>\n",
       "      <td>3.000000</td>\n",
       "      <td>3.000000</td>\n",
       "      <td>7.000000</td>\n",
       "      <td>4.000000</td>\n",
       "    </tr>\n",
       "  </tbody>\n",
       "</table>\n",
       "</div>"
      ],
      "text/plain": [
       "              age         sex          cp    trestbps        chol         fbs  \\\n",
       "count  302.000000  302.000000  302.000000  289.000000  297.000000  302.000000   \n",
       "mean    54.410596    0.678808    3.165563   54.183391   54.272727    0.145695   \n",
       "std      9.040163    0.467709    0.953612    9.124007    9.039872    0.353386   \n",
       "min     29.000000    0.000000    1.000000   29.000000   29.000000    0.000000   \n",
       "25%     48.000000    0.000000    3.000000   47.000000   47.000000    0.000000   \n",
       "50%     55.500000    1.000000    3.000000   55.000000   55.000000    0.000000   \n",
       "75%     61.000000    1.000000    4.000000   61.000000   60.000000    0.000000   \n",
       "max     77.000000    1.000000    4.000000   77.000000   77.000000    1.000000   \n",
       "\n",
       "          restecg     thalach       exang     oldpeak       slope          ca  \\\n",
       "count  302.000000  302.000000  302.000000  302.000000  302.000000  302.000000   \n",
       "mean     0.986755  149.605960    0.327815    1.035430    1.596026    0.665563   \n",
       "std      0.994916   22.912959    0.470196    1.160723    0.611939    0.935142   \n",
       "min      0.000000   71.000000    0.000000    0.000000    1.000000    0.000000   \n",
       "25%      0.000000  133.250000    0.000000    0.000000    1.000000    0.000000   \n",
       "50%      0.500000  153.000000    0.000000    0.800000    2.000000    0.000000   \n",
       "75%      2.000000  166.000000    1.000000    1.600000    2.000000    1.000000   \n",
       "max      2.000000  202.000000    1.000000    6.200000    3.000000    3.000000   \n",
       "\n",
       "             thal     num (y)  \n",
       "count  302.000000  302.000000  \n",
       "mean     4.718543    0.940397  \n",
       "std      1.940199    1.229384  \n",
       "min      3.000000    0.000000  \n",
       "25%      3.000000    0.000000  \n",
       "50%      3.000000    0.000000  \n",
       "75%      7.000000    2.000000  \n",
       "max      7.000000    4.000000  "
      ]
     },
     "execution_count": 18,
     "metadata": {},
     "output_type": "execute_result"
    }
   ],
   "source": [
    "data.describe()"
   ]
  },
  {
   "cell_type": "markdown",
   "metadata": {},
   "source": [
    "From the above matrix, we understand some key aspects about the data. For example, the average(mean) age is 54 and age with max values is 77.\n",
    "\n",
    "Now lets calculate the data distribution w.r.t output variable."
   ]
  },
  {
   "cell_type": "code",
   "execution_count": 19,
   "metadata": {},
   "outputs": [
    {
     "data": {
      "text/plain": [
       "0.0    163\n",
       "1.0     55\n",
       "2.0     36\n",
       "3.0     35\n",
       "4.0     13\n",
       "Name: num (y), dtype: int64"
      ]
     },
     "execution_count": 19,
     "metadata": {},
     "output_type": "execute_result"
    }
   ],
   "source": [
    "data['num (y)'].value_counts()"
   ]
  },
  {
   "cell_type": "code",
   "execution_count": 20,
   "metadata": {},
   "outputs": [
    {
     "data": {
      "text/plain": [
       "<matplotlib.axes._subplots.AxesSubplot at 0x147fdcf5ba8>"
      ]
     },
     "execution_count": 20,
     "metadata": {},
     "output_type": "execute_result"
    },
    {
     "data": {
      "image/png": "[encoded data removed]",
      "text/plain": [
       "<Figure size 432x288 with 1 Axes>"
      ]
     },
     "metadata": {
      "needs_background": "light"
     },
     "output_type": "display_data"
    }
   ],
   "source": [
    "data['num (y)'].value_counts().plot(kind='bar')"
   ]
  },
  {
   "cell_type": "markdown",
   "metadata": {},
   "source": [
    "As we can see the data is skewed. We need to do some feature engineering to solve this issue.. Our Approach will be to merge class 1,2,3 to class 1 as we do not have much samples compared to class 0. So our final classes will be 0 (no heart condition) & 1 (having heart condition)."
   ]
  },
  {
   "cell_type": "code",
   "execution_count": 21,
   "metadata": {},
   "outputs": [
    {
     "data": {
      "text/plain": [
       "0    163\n",
       "1    139\n",
       "Name: num (y), dtype: int64"
      ]
     },
     "execution_count": 21,
     "metadata": {},
     "output_type": "execute_result"
    }
   ],
   "source": [
    "def replace_class(class_value):\n",
    "    if class_value > 0:\n",
    "        return 1\n",
    "    else:\n",
    "        return 0\n",
    "    \n",
    "data['num (y)'] = data['num (y)'].map(replace_class)\n",
    "\n",
    "data['num (y)'].value_counts()"
   ]
  },
  {
   "cell_type": "markdown",
   "metadata": {},
   "source": [
    "Now that the skewness is resolved, lets find correlation between columns and see if we can furthur extract most relevant feature."
   ]
  },
  {
   "cell_type": "markdown",
   "metadata": {},
   "source": [
    "### Method 1 : Correlation Matrix"
   ]
  },
  {
   "cell_type": "code",
   "execution_count": 22,
   "metadata": {},
   "outputs": [
    {
     "data": {
      "text/html": [
       "<div>\n",
       "<style scoped>\n",
       "    .dataframe tbody tr th:only-of-type {\n",
       "        vertical-align: middle;\n",
       "    }\n",
       "\n",
       "    .dataframe tbody tr th {\n",
       "        vertical-align: top;\n",
       "    }\n",
       "\n",
       "    .dataframe thead th {\n",
       "        text-align: right;\n",
       "    }\n",
       "</style>\n",
       "<table border=\"1\" class=\"dataframe\">\n",
       "  <thead>\n",
       "    <tr style=\"text-align: right;\">\n",
       "      <th></th>\n",
       "      <th>age</th>\n",
       "      <th>sex</th>\n",
       "      <th>cp</th>\n",
       "      <th>trestbps</th>\n",
       "      <th>chol</th>\n",
       "      <th>fbs</th>\n",
       "      <th>restecg</th>\n",
       "      <th>thalach</th>\n",
       "      <th>exang</th>\n",
       "      <th>oldpeak</th>\n",
       "      <th>slope</th>\n",
       "      <th>ca</th>\n",
       "      <th>thal</th>\n",
       "      <th>num (y)</th>\n",
       "    </tr>\n",
       "  </thead>\n",
       "  <tbody>\n",
       "    <tr>\n",
       "      <th>age</th>\n",
       "      <td>1.000000</td>\n",
       "      <td>0.099925</td>\n",
       "      <td>0.112326</td>\n",
       "      <td>1.000000</td>\n",
       "      <td>1.000000</td>\n",
       "      <td>0.112245</td>\n",
       "      <td>0.146142</td>\n",
       "      <td>0.394448</td>\n",
       "      <td>0.094065</td>\n",
       "      <td>0.201083</td>\n",
       "      <td>0.156199</td>\n",
       "      <td>0.368415</td>\n",
       "      <td>0.126509</td>\n",
       "      <td>0.226668</td>\n",
       "    </tr>\n",
       "    <tr>\n",
       "      <th>sex</th>\n",
       "      <td>0.099925</td>\n",
       "      <td>1.000000</td>\n",
       "      <td>0.015342</td>\n",
       "      <td>0.095134</td>\n",
       "      <td>0.079806</td>\n",
       "      <td>0.042863</td>\n",
       "      <td>0.019386</td>\n",
       "      <td>0.048740</td>\n",
       "      <td>0.148019</td>\n",
       "      <td>0.099976</td>\n",
       "      <td>0.032671</td>\n",
       "      <td>0.087806</td>\n",
       "      <td>0.379651</td>\n",
       "      <td>0.279518</td>\n",
       "    </tr>\n",
       "    <tr>\n",
       "      <th>cp</th>\n",
       "      <td>0.112326</td>\n",
       "      <td>0.015342</td>\n",
       "      <td>1.000000</td>\n",
       "      <td>0.123279</td>\n",
       "      <td>0.109319</td>\n",
       "      <td>0.022524</td>\n",
       "      <td>0.075854</td>\n",
       "      <td>0.337136</td>\n",
       "      <td>0.382394</td>\n",
       "      <td>0.212589</td>\n",
       "      <td>0.171926</td>\n",
       "      <td>0.229945</td>\n",
       "      <td>0.269475</td>\n",
       "      <td>0.411625</td>\n",
       "    </tr>\n",
       "    <tr>\n",
       "      <th>trestbps</th>\n",
       "      <td>1.000000</td>\n",
       "      <td>0.095134</td>\n",
       "      <td>0.123279</td>\n",
       "      <td>1.000000</td>\n",
       "      <td>1.000000</td>\n",
       "      <td>0.098790</td>\n",
       "      <td>0.143442</td>\n",
       "      <td>0.406847</td>\n",
       "      <td>0.074686</td>\n",
       "      <td>0.205215</td>\n",
       "      <td>0.144281</td>\n",
       "      <td>0.384502</td>\n",
       "      <td>0.113662</td>\n",
       "      <td>0.223872</td>\n",
       "    </tr>\n",
       "    <tr>\n",
       "      <th>chol</th>\n",
       "      <td>1.000000</td>\n",
       "      <td>0.079806</td>\n",
       "      <td>0.109319</td>\n",
       "      <td>1.000000</td>\n",
       "      <td>1.000000</td>\n",
       "      <td>0.109498</td>\n",
       "      <td>0.132829</td>\n",
       "      <td>0.403063</td>\n",
       "      <td>0.104954</td>\n",
       "      <td>0.194563</td>\n",
       "      <td>0.154523</td>\n",
       "      <td>0.372395</td>\n",
       "      <td>0.124726</td>\n",
       "      <td>0.236979</td>\n",
       "    </tr>\n",
       "    <tr>\n",
       "      <th>fbs</th>\n",
       "      <td>0.112245</td>\n",
       "      <td>0.042863</td>\n",
       "      <td>0.022524</td>\n",
       "      <td>0.098790</td>\n",
       "      <td>0.109498</td>\n",
       "      <td>1.000000</td>\n",
       "      <td>0.062202</td>\n",
       "      <td>0.008067</td>\n",
       "      <td>0.031514</td>\n",
       "      <td>0.002907</td>\n",
       "      <td>0.042630</td>\n",
       "      <td>0.147936</td>\n",
       "      <td>0.060007</td>\n",
       "      <td>0.032923</td>\n",
       "    </tr>\n",
       "    <tr>\n",
       "      <th>restecg</th>\n",
       "      <td>0.146142</td>\n",
       "      <td>0.019386</td>\n",
       "      <td>0.075854</td>\n",
       "      <td>0.143442</td>\n",
       "      <td>0.132829</td>\n",
       "      <td>0.062202</td>\n",
       "      <td>1.000000</td>\n",
       "      <td>0.083591</td>\n",
       "      <td>0.087432</td>\n",
       "      <td>0.110879</td>\n",
       "      <td>0.127603</td>\n",
       "      <td>0.134486</td>\n",
       "      <td>0.022157</td>\n",
       "      <td>0.172840</td>\n",
       "    </tr>\n",
       "    <tr>\n",
       "      <th>thalach</th>\n",
       "      <td>0.394448</td>\n",
       "      <td>0.048740</td>\n",
       "      <td>0.337136</td>\n",
       "      <td>0.406847</td>\n",
       "      <td>0.403063</td>\n",
       "      <td>0.008067</td>\n",
       "      <td>0.083591</td>\n",
       "      <td>1.000000</td>\n",
       "      <td>0.378368</td>\n",
       "      <td>0.343821</td>\n",
       "      <td>0.389078</td>\n",
       "      <td>0.265881</td>\n",
       "      <td>0.274378</td>\n",
       "      <td>0.417701</td>\n",
       "    </tr>\n",
       "    <tr>\n",
       "      <th>exang</th>\n",
       "      <td>0.094065</td>\n",
       "      <td>0.148019</td>\n",
       "      <td>0.382394</td>\n",
       "      <td>0.074686</td>\n",
       "      <td>0.104954</td>\n",
       "      <td>0.031514</td>\n",
       "      <td>0.087432</td>\n",
       "      <td>0.378368</td>\n",
       "      <td>1.000000</td>\n",
       "      <td>0.291536</td>\n",
       "      <td>0.265491</td>\n",
       "      <td>0.144385</td>\n",
       "      <td>0.327262</td>\n",
       "      <td>0.430721</td>\n",
       "    </tr>\n",
       "    <tr>\n",
       "      <th>oldpeak</th>\n",
       "      <td>0.201083</td>\n",
       "      <td>0.099976</td>\n",
       "      <td>0.212589</td>\n",
       "      <td>0.205215</td>\n",
       "      <td>0.194563</td>\n",
       "      <td>0.002907</td>\n",
       "      <td>0.110879</td>\n",
       "      <td>0.343821</td>\n",
       "      <td>0.291536</td>\n",
       "      <td>1.000000</td>\n",
       "      <td>0.575415</td>\n",
       "      <td>0.304478</td>\n",
       "      <td>0.340942</td>\n",
       "      <td>0.429268</td>\n",
       "    </tr>\n",
       "    <tr>\n",
       "      <th>slope</th>\n",
       "      <td>0.156199</td>\n",
       "      <td>0.032671</td>\n",
       "      <td>0.171926</td>\n",
       "      <td>0.144281</td>\n",
       "      <td>0.154523</td>\n",
       "      <td>0.042630</td>\n",
       "      <td>0.127603</td>\n",
       "      <td>0.389078</td>\n",
       "      <td>0.265491</td>\n",
       "      <td>0.575415</td>\n",
       "      <td>1.000000</td>\n",
       "      <td>0.117266</td>\n",
       "      <td>0.284472</td>\n",
       "      <td>0.349642</td>\n",
       "    </tr>\n",
       "    <tr>\n",
       "      <th>ca</th>\n",
       "      <td>0.368415</td>\n",
       "      <td>0.087806</td>\n",
       "      <td>0.229945</td>\n",
       "      <td>0.384502</td>\n",
       "      <td>0.372395</td>\n",
       "      <td>0.147936</td>\n",
       "      <td>0.134486</td>\n",
       "      <td>0.265881</td>\n",
       "      <td>0.144385</td>\n",
       "      <td>0.304478</td>\n",
       "      <td>0.117266</td>\n",
       "      <td>1.000000</td>\n",
       "      <td>0.257401</td>\n",
       "      <td>0.458893</td>\n",
       "    </tr>\n",
       "    <tr>\n",
       "      <th>thal</th>\n",
       "      <td>0.126509</td>\n",
       "      <td>0.379651</td>\n",
       "      <td>0.269475</td>\n",
       "      <td>0.113662</td>\n",
       "      <td>0.124726</td>\n",
       "      <td>0.060007</td>\n",
       "      <td>0.022157</td>\n",
       "      <td>0.274378</td>\n",
       "      <td>0.327262</td>\n",
       "      <td>0.340942</td>\n",
       "      <td>0.284472</td>\n",
       "      <td>0.257401</td>\n",
       "      <td>1.000000</td>\n",
       "      <td>0.525184</td>\n",
       "    </tr>\n",
       "    <tr>\n",
       "      <th>num (y)</th>\n",
       "      <td>0.226668</td>\n",
       "      <td>0.279518</td>\n",
       "      <td>0.411625</td>\n",
       "      <td>0.223872</td>\n",
       "      <td>0.236979</td>\n",
       "      <td>0.032923</td>\n",
       "      <td>0.172840</td>\n",
       "      <td>0.417701</td>\n",
       "      <td>0.430721</td>\n",
       "      <td>0.429268</td>\n",
       "      <td>0.349642</td>\n",
       "      <td>0.458893</td>\n",
       "      <td>0.525184</td>\n",
       "      <td>1.000000</td>\n",
       "    </tr>\n",
       "  </tbody>\n",
       "</table>\n",
       "</div>"
      ],
      "text/plain": [
       "               age       sex        cp  trestbps      chol       fbs  \\\n",
       "age       1.000000  0.099925  0.112326  1.000000  1.000000  0.112245   \n",
       "sex       0.099925  1.000000  0.015342  0.095134  0.079806  0.042863   \n",
       "cp        0.112326  0.015342  1.000000  0.123279  0.109319  0.022524   \n",
       "trestbps  1.000000  0.095134  0.123279  1.000000  1.000000  0.098790   \n",
       "chol      1.000000  0.079806  0.109319  1.000000  1.000000  0.109498   \n",
       "fbs       0.112245  0.042863  0.022524  0.098790  0.109498  1.000000   \n",
       "restecg   0.146142  0.019386  0.075854  0.143442  0.132829  0.062202   \n",
       "thalach   0.394448  0.048740  0.337136  0.406847  0.403063  0.008067   \n",
       "exang     0.094065  0.148019  0.382394  0.074686  0.104954  0.031514   \n",
       "oldpeak   0.201083  0.099976  0.212589  0.205215  0.194563  0.002907   \n",
       "slope     0.156199  0.032671  0.171926  0.144281  0.154523  0.042630   \n",
       "ca        0.368415  0.087806  0.229945  0.384502  0.372395  0.147936   \n",
       "thal      0.126509  0.379651  0.269475  0.113662  0.124726  0.060007   \n",
       "num (y)   0.226668  0.279518  0.411625  0.223872  0.236979  0.032923   \n",
       "\n",
       "           restecg   thalach     exang   oldpeak     slope        ca  \\\n",
       "age       0.146142  0.394448  0.094065  0.201083  0.156199  0.368415   \n",
       "sex       0.019386  0.048740  0.148019  0.099976  0.032671  0.087806   \n",
       "cp        0.075854  0.337136  0.382394  0.212589  0.171926  0.229945   \n",
       "trestbps  0.143442  0.406847  0.074686  0.205215  0.144281  0.384502   \n",
       "chol      0.132829  0.403063  0.104954  0.194563  0.154523  0.372395   \n",
       "fbs       0.062202  0.008067  0.031514  0.002907  0.042630  0.147936   \n",
       "restecg   1.000000  0.083591  0.087432  0.110879  0.127603  0.134486   \n",
       "thalach   0.083591  1.000000  0.378368  0.343821  0.389078  0.265881   \n",
       "exang     0.087432  0.378368  1.000000  0.291536  0.265491  0.144385   \n",
       "oldpeak   0.110879  0.343821  0.291536  1.000000  0.575415  0.304478   \n",
       "slope     0.127603  0.389078  0.265491  0.575415  1.000000  0.117266   \n",
       "ca        0.134486  0.265881  0.144385  0.304478  0.117266  1.000000   \n",
       "thal      0.022157  0.274378  0.327262  0.340942  0.284472  0.257401   \n",
       "num (y)   0.172840  0.417701  0.430721  0.429268  0.349642  0.458893   \n",
       "\n",
       "              thal   num (y)  \n",
       "age       0.126509  0.226668  \n",
       "sex       0.379651  0.279518  \n",
       "cp        0.269475  0.411625  \n",
       "trestbps  0.113662  0.223872  \n",
       "chol      0.124726  0.236979  \n",
       "fbs       0.060007  0.032923  \n",
       "restecg   0.022157  0.172840  \n",
       "thalach   0.274378  0.417701  \n",
       "exang     0.327262  0.430721  \n",
       "oldpeak   0.340942  0.429268  \n",
       "slope     0.284472  0.349642  \n",
       "ca        0.257401  0.458893  \n",
       "thal      1.000000  0.525184  \n",
       "num (y)   0.525184  1.000000  "
      ]
     },
     "execution_count": 22,
     "metadata": {},
     "output_type": "execute_result"
    }
   ],
   "source": [
    "corr_matrix = data.corr().abs()\n",
    "\n",
    "corr_matrix"
   ]
  },
  {
   "cell_type": "markdown",
   "metadata": {},
   "source": [
    "### Method 2 : HeatMap"
   ]
  },
  {
   "cell_type": "markdown",
   "metadata": {},
   "source": [
    "The above information is not user friendly. Let plot a heat map to visualize relations better. We will use seaborn library."
   ]
  },
  {
   "cell_type": "code",
   "execution_count": 23,
   "metadata": {},
   "outputs": [],
   "source": [
    "import seaborn as sns\n",
    "import numpy as np"
   ]
  },
  {
   "cell_type": "code",
   "execution_count": 24,
   "metadata": {
    "scrolled": true
   },
   "outputs": [
    {
     "data": {
      "text/plain": [
       "<matplotlib.axes._subplots.AxesSubplot at 0x147ffd84b38>"
      ]
     },
     "execution_count": 24,
     "metadata": {},
     "output_type": "execute_result"
    },
    {
     "data": {
      "image/png": "[encoded data removed]",
      "text/plain": [
       "<Figure size 432x288 with 2 Axes>"
      ]
     },
     "metadata": {
      "needs_background": "light"
     },
     "output_type": "display_data"
    }
   ],
   "source": [
    "sns.heatmap(corr_matrix, \n",
    "        xticklabels=data.columns,\n",
    "        yticklabels=data.columns)"
   ]
  },
  {
   "cell_type": "markdown",
   "metadata": {},
   "source": [
    "### Method 3: Code base"
   ]
  },
  {
   "cell_type": "markdown",
   "metadata": {},
   "source": [
    "Lets drop features that are highly correlated. Lets calculate upper traingle of cor-relation matrix."
   ]
  },
  {
   "cell_type": "code",
   "execution_count": 25,
   "metadata": {},
   "outputs": [],
   "source": [
    "upper = corr_matrix.where(np.triu(np.ones(corr_matrix.shape), k=1).astype(np.bool))"
   ]
  },
  {
   "cell_type": "code",
   "execution_count": 26,
   "metadata": {},
   "outputs": [],
   "source": [
    "to_drop = [column for column in upper.columns if any(upper[column] > 0.95)]"
   ]
  },
  {
   "cell_type": "code",
   "execution_count": 27,
   "metadata": {},
   "outputs": [],
   "source": [
    "data=data.drop(data[to_drop], axis=1)"
   ]
  },
  {
   "cell_type": "code",
   "execution_count": 28,
   "metadata": {},
   "outputs": [
    {
     "data": {
      "text/html": [
       "<div>\n",
       "<style scoped>\n",
       "    .dataframe tbody tr th:only-of-type {\n",
       "        vertical-align: middle;\n",
       "    }\n",
       "\n",
       "    .dataframe tbody tr th {\n",
       "        vertical-align: top;\n",
       "    }\n",
       "\n",
       "    .dataframe thead th {\n",
       "        text-align: right;\n",
       "    }\n",
       "</style>\n",
       "<table border=\"1\" class=\"dataframe\">\n",
       "  <thead>\n",
       "    <tr style=\"text-align: right;\">\n",
       "      <th></th>\n",
       "      <th>age</th>\n",
       "      <th>sex</th>\n",
       "      <th>cp</th>\n",
       "      <th>fbs</th>\n",
       "      <th>restecg</th>\n",
       "      <th>thalach</th>\n",
       "      <th>exang</th>\n",
       "      <th>oldpeak</th>\n",
       "      <th>slope</th>\n",
       "      <th>ca</th>\n",
       "      <th>thal</th>\n",
       "      <th>num (y)</th>\n",
       "    </tr>\n",
       "  </thead>\n",
       "  <tbody>\n",
       "    <tr>\n",
       "      <th>0</th>\n",
       "      <td>67.0</td>\n",
       "      <td>1.0</td>\n",
       "      <td>4.0</td>\n",
       "      <td>0.0</td>\n",
       "      <td>2.0</td>\n",
       "      <td>108.0</td>\n",
       "      <td>1.0</td>\n",
       "      <td>1.5</td>\n",
       "      <td>2.0</td>\n",
       "      <td>3.0</td>\n",
       "      <td>3.0</td>\n",
       "      <td>1</td>\n",
       "    </tr>\n",
       "    <tr>\n",
       "      <th>1</th>\n",
       "      <td>67.0</td>\n",
       "      <td>1.0</td>\n",
       "      <td>4.0</td>\n",
       "      <td>0.0</td>\n",
       "      <td>2.0</td>\n",
       "      <td>129.0</td>\n",
       "      <td>1.0</td>\n",
       "      <td>2.6</td>\n",
       "      <td>2.0</td>\n",
       "      <td>2.0</td>\n",
       "      <td>7.0</td>\n",
       "      <td>1</td>\n",
       "    </tr>\n",
       "    <tr>\n",
       "      <th>2</th>\n",
       "      <td>37.0</td>\n",
       "      <td>1.0</td>\n",
       "      <td>3.0</td>\n",
       "      <td>0.0</td>\n",
       "      <td>0.0</td>\n",
       "      <td>187.0</td>\n",
       "      <td>0.0</td>\n",
       "      <td>3.5</td>\n",
       "      <td>3.0</td>\n",
       "      <td>0.0</td>\n",
       "      <td>3.0</td>\n",
       "      <td>0</td>\n",
       "    </tr>\n",
       "    <tr>\n",
       "      <th>3</th>\n",
       "      <td>41.0</td>\n",
       "      <td>0.0</td>\n",
       "      <td>2.0</td>\n",
       "      <td>0.0</td>\n",
       "      <td>2.0</td>\n",
       "      <td>172.0</td>\n",
       "      <td>0.0</td>\n",
       "      <td>1.4</td>\n",
       "      <td>1.0</td>\n",
       "      <td>0.0</td>\n",
       "      <td>3.0</td>\n",
       "      <td>0</td>\n",
       "    </tr>\n",
       "    <tr>\n",
       "      <th>4</th>\n",
       "      <td>56.0</td>\n",
       "      <td>1.0</td>\n",
       "      <td>2.0</td>\n",
       "      <td>0.0</td>\n",
       "      <td>0.0</td>\n",
       "      <td>178.0</td>\n",
       "      <td>0.0</td>\n",
       "      <td>0.8</td>\n",
       "      <td>1.0</td>\n",
       "      <td>0.0</td>\n",
       "      <td>3.0</td>\n",
       "      <td>0</td>\n",
       "    </tr>\n",
       "  </tbody>\n",
       "</table>\n",
       "</div>"
      ],
      "text/plain": [
       "    age  sex   cp  fbs  restecg  thalach  exang  oldpeak  slope   ca  thal  \\\n",
       "0  67.0  1.0  4.0  0.0      2.0    108.0    1.0      1.5    2.0  3.0   3.0   \n",
       "1  67.0  1.0  4.0  0.0      2.0    129.0    1.0      2.6    2.0  2.0   7.0   \n",
       "2  37.0  1.0  3.0  0.0      0.0    187.0    0.0      3.5    3.0  0.0   3.0   \n",
       "3  41.0  0.0  2.0  0.0      2.0    172.0    0.0      1.4    1.0  0.0   3.0   \n",
       "4  56.0  1.0  2.0  0.0      0.0    178.0    0.0      0.8    1.0  0.0   3.0   \n",
       "\n",
       "   num (y)  \n",
       "0        1  \n",
       "1        1  \n",
       "2        0  \n",
       "3        0  \n",
       "4        0  "
      ]
     },
     "execution_count": 28,
     "metadata": {},
     "output_type": "execute_result"
    }
   ],
   "source": [
    "data.head()"
   ]
  },
  {
   "cell_type": "markdown",
   "metadata": {},
   "source": [
    "As we can see, columns chol (cholestrol) and trestbps have been removed as they were highly correlated and would not contribute much to model scoring."
   ]
  },
  {
   "cell_type": "markdown",
   "metadata": {},
   "source": [
    "## 4. Model Building"
   ]
  },
  {
   "cell_type": "markdown",
   "metadata": {},
   "source": [
    "Lets build a machine learning model. We will be using RandomForest Algorithm for predicting category for heart condition. \n",
    "Following are the steps that we will use here:\n",
    "1. Lets first split our data into training and test sets.\n",
    "2. Train the model using training set.\n",
    "3. Predict the outcomes of the trained model using test sets. (performance evaluation).\n",
    "4. Calculate baseline scores."
   ]
  },
  {
   "cell_type": "code",
   "execution_count": 29,
   "metadata": {},
   "outputs": [],
   "source": [
    "from sklearn.model_selection import train_test_split"
   ]
  },
  {
   "cell_type": "code",
   "execution_count": 30,
   "metadata": {},
   "outputs": [],
   "source": [
    "input_cols= [col for col in data.columns.tolist() if col != 'num (y)']\n",
    "\n",
    "data_input = data[input_cols]\n",
    "data_output = data['num (y)']\n",
    "\n",
    "X_train, X_test, y_train, y_test = train_test_split(data_input, data_output, test_size=0.3)"
   ]
  },
  {
   "cell_type": "markdown",
   "metadata": {},
   "source": [
    "Lets build our model now..."
   ]
  },
  {
   "cell_type": "code",
   "execution_count": 31,
   "metadata": {},
   "outputs": [],
   "source": [
    "from sklearn.ensemble import RandomForestClassifier\n",
    "\n",
    "#initialize mode\n",
    "clf=RandomForestClassifier(n_estimators=150)\n",
    "#n_estimators = number of decision trees.\n",
    "\n",
    "#train the model\n",
    "clf.fit(X_train,y_train)\n",
    "\n",
    "#how the data will be,\n",
    "\n",
    "#[first 11 columns - X_train,[num (y)]- y_train]\n",
    "\n",
    "\n",
    "#test the model\n",
    "y_pred=clf.predict(X_test)\n",
    "\n",
    "\n",
    "#[first 11 columns - X_test]"
   ]
  },
  {
   "cell_type": "markdown",
   "metadata": {},
   "source": [
    "Now that our model is trained, lets calculate accuracy."
   ]
  },
  {
   "cell_type": "code",
   "execution_count": 32,
   "metadata": {},
   "outputs": [
    {
     "name": "stdout",
     "output_type": "stream",
     "text": [
      "Accuracy: 0.8351648351648352\n"
     ]
    }
   ],
   "source": [
    "from sklearn import metrics\n",
    "\n",
    "print(\"Accuracy:\",metrics.accuracy_score(y_test, y_pred))"
   ]
  },
  {
   "cell_type": "markdown",
   "metadata": {},
   "source": [
    "Accuracy is a very basic measure of model evaluation. There are other score that we need to consider in real world usecases. The values like True postives, True Negatives, False postives and False Negative contribute to evalutions like **Precision** and **Recall**. We will be using confusion matrix to evaluate these scores. Lets go ahead and implement it."
   ]
  },
  {
   "cell_type": "code",
   "execution_count": 33,
   "metadata": {},
   "outputs": [
    {
     "name": "stdout",
     "output_type": "stream",
     "text": [
      "Confusion Matrix :\n",
      "[[41  6]\n",
      " [ 9 35]]\n",
      "Accuracy Score : 0.8351648351648352\n",
      "Report : \n",
      "              precision    recall  f1-score   support\n",
      "\n",
      "           0       0.82      0.87      0.85        47\n",
      "           1       0.85      0.80      0.82        44\n",
      "\n",
      "    accuracy                           0.84        91\n",
      "   macro avg       0.84      0.83      0.83        91\n",
      "weighted avg       0.84      0.84      0.83        91\n",
      "\n"
     ]
    }
   ],
   "source": [
    "from sklearn.metrics import confusion_matrix \n",
    "from sklearn.metrics import accuracy_score \n",
    "from sklearn.metrics import classification_report\n",
    "\n",
    "\n",
    "results = confusion_matrix(y_test, y_pred) \n",
    "  \n",
    "print('Confusion Matrix :')\n",
    "print(results) \n",
    "print('Accuracy Score : {}'.format(accuracy_score(y_test, y_pred)))\n",
    "print('Report : ')\n",
    "print(classification_report(y_test, y_pred))"
   ]
  },
  {
   "cell_type": "markdown",
   "metadata": {},
   "source": [
    "# Hyper-Parameter Tuning\n",
    "\n",
    "First, we will define a base function that will help us plot validation curve with different hyper-parameter."
   ]
  },
  {
   "cell_type": "code",
   "execution_count": 34,
   "metadata": {},
   "outputs": [],
   "source": [
    "from sklearn.model_selection import validation_curve\n",
    "import matplotlib.pyplot as plt\n",
    "\n",
    "def plot_validation_graph(x_label, param_name,param_range):\n",
    "\ttrain_scores, test_scores = validation_curve(\n",
    "\t\t\t\t\t\t\t\t\tRandomForestClassifier(),\n",
    "\t\t\t\t\t\t\t\t\tX = X_train, y = y_train, \n",
    "\t\t\t\t\t\t\t\t\tparam_name = param_name, \n",
    "\t\t\t\t\t\t\t\t\tparam_range = param_range, cv = 3)\n",
    "\t\n",
    "\t# Calculate mean and standard deviation for training set scores\n",
    "\ttrain_mean = np.mean(train_scores, axis=1)\n",
    "\ttrain_std = np.std(train_scores, axis=1)\n",
    "\t\n",
    "\t# Calculate mean and standard deviation for test set scores\n",
    "\ttest_mean = np.mean(test_scores, axis=1)\n",
    "\ttest_std = np.std(test_scores, axis=1)\n",
    "\t\n",
    "\t\n",
    "\tplt.plot(num_est, train_mean, label=\"Training score\", color=\"black\")\n",
    "\tplt.plot(num_est, test_mean, label=\"Cross-validation score\", color=\"dimgrey\")\n",
    "\t\n",
    "\t# Plot accurancy bands for training and test sets\n",
    "\t#plt.fill_between(num_est, train_mean - train_std, train_mean + train_std, color=\"gray\")\n",
    "\t#plt.fill_between(num_est, test_mean - test_std, test_mean + test_std, color=\"gainsboro\")\n",
    "\t\n",
    "\t# Create plot\n",
    "\tplt.title(\"Validation Curve With Random Forest\")\n",
    "\tplt.xlabel(x_label)\n",
    "\tplt.ylabel(\"Accuracy Score\")\n",
    "\tplt.tight_layout()\n",
    "\tplt.legend(loc=\"best\")\n",
    "\tplt.show()"
   ]
  },
  {
   "cell_type": "markdown",
   "metadata": {},
   "source": [
    "## For n_estimators"
   ]
  },
  {
   "cell_type": "code",
   "execution_count": 35,
   "metadata": {},
   "outputs": [
    {
     "data": {
      "image/png": "[encoded data removed]",
      "text/plain": [
       "<Figure size 432x288 with 1 Axes>"
      ]
     },
     "metadata": {
      "needs_background": "light"
     },
     "output_type": "display_data"
    }
   ],
   "source": [
    "num_est=[30,40,50,60,70,80,90,100]\n",
    "plot_validation_graph('Number of trees','n_estimators',num_est)"
   ]
  },
  {
   "cell_type": "markdown",
   "metadata": {},
   "source": [
    "## For max_depth "
   ]
  },
  {
   "cell_type": "code",
   "execution_count": 36,
   "metadata": {},
   "outputs": [
    {
     "data": {
      "image/png": "[encoded data removed]",
      "text/plain": [
       "<Figure size 432x288 with 1 Axes>"
      ]
     },
     "metadata": {
      "needs_background": "light"
     },
     "output_type": "display_data"
    }
   ],
   "source": [
    "depth=[5,10,15,20,25,30,35,40]\n",
    "plot_validation_graph('Depth','max_depth',depth)"
   ]
  },
  {
   "cell_type": "markdown",
   "metadata": {},
   "source": [
    "## For min_samples_split"
   ]
  },
  {
   "cell_type": "code",
   "execution_count": 37,
   "metadata": {},
   "outputs": [
    {
     "data": {
      "image/png": "[encoded data removed]",
      "text/plain": [
       "<Figure size 432x288 with 1 Axes>"
      ]
     },
     "metadata": {
      "needs_background": "light"
     },
     "output_type": "display_data"
    }
   ],
   "source": [
    "sample_split=[2,3,4,5,6,7,8,9]\n",
    "plot_validation_graph('Sample Split','min_samples_split',sample_split)"
   ]
  },
  {
   "cell_type": "markdown",
   "metadata": {},
   "source": [
    "## For min_samples_leaf"
   ]
  },
  {
   "cell_type": "code",
   "execution_count": 38,
   "metadata": {},
   "outputs": [
    {
     "data": {
      "image/png": "[encoded data removed]",
      "text/plain": [
       "<Figure size 432x288 with 1 Axes>"
      ]
     },
     "metadata": {
      "needs_background": "light"
     },
     "output_type": "display_data"
    }
   ],
   "source": [
    "sample_leaf=[2,3,4,5,6,7,8,9]\n",
    "plot_validation_graph('Sample Leaf','min_samples_leaf',sample_leaf)"
   ]
  },
  {
   "cell_type": "markdown",
   "metadata": {},
   "source": [
    "## Grid Search"
   ]
  },
  {
   "cell_type": "code",
   "execution_count": 45,
   "metadata": {},
   "outputs": [
    {
     "name": "stdout",
     "output_type": "stream",
     "text": [
      "Fitting 3 folds for each of 4096 candidates, totalling 12288 fits\n"
     ]
    },
    {
     "name": "stderr",
     "output_type": "stream",
     "text": [
      "[Parallel(n_jobs=-1)]: Using backend LokyBackend with 4 concurrent workers.\n",
      "[Parallel(n_jobs=-1)]: Done  76 tasks      | elapsed:    1.7s\n",
      "[Parallel(n_jobs=-1)]: Done 376 tasks      | elapsed:    8.7s\n",
      "[Parallel(n_jobs=-1)]: Done 876 tasks      | elapsed:   20.2s\n",
      "[Parallel(n_jobs=-1)]: Done 1576 tasks      | elapsed:   36.4s\n",
      "[Parallel(n_jobs=-1)]: Done 2476 tasks      | elapsed:   57.0s\n",
      "[Parallel(n_jobs=-1)]: Done 3576 tasks      | elapsed:  1.4min\n",
      "[Parallel(n_jobs=-1)]: Done 4876 tasks      | elapsed:  1.9min\n",
      "[Parallel(n_jobs=-1)]: Done 6376 tasks      | elapsed:  2.5min\n",
      "[Parallel(n_jobs=-1)]: Done 8076 tasks      | elapsed:  3.1min\n",
      "[Parallel(n_jobs=-1)]: Done 9976 tasks      | elapsed:  3.8min\n",
      "[Parallel(n_jobs=-1)]: Done 12076 tasks      | elapsed:  4.6min\n",
      "[Parallel(n_jobs=-1)]: Done 12288 out of 12288 | elapsed:  4.7min finished\n"
     ]
    }
   ],
   "source": [
    "from sklearn.model_selection import GridSearchCV\n",
    "\n",
    "n_estimators = [30,40,50,60,70,80,90,100]\n",
    "max_depth = [5,10,15,20,25,30,35,40]\n",
    "min_samples_split = [5,10,15,20,25,30,35,40]\n",
    "min_samples_leaf = [2,3,4,5,6,7,8,9] \n",
    "\n",
    "hyperF = dict(n_estimators = n_estimators, max_depth = max_depth,  \n",
    "              min_samples_split = min_samples_split, \n",
    "             min_samples_leaf = min_samples_leaf)\n",
    "\n",
    "gridF = GridSearchCV(RandomForestClassifier(), hyperF, cv = 3, verbose = 1, \n",
    "                      n_jobs = -1)\n",
    "bestF = gridF.fit(X_train, y_train)"
   ]
  },
  {
   "cell_type": "code",
   "execution_count": 46,
   "metadata": {},
   "outputs": [],
   "source": [
    "y_pred=bestF.predict(X_test)"
   ]
  },
  {
   "cell_type": "code",
   "execution_count": 47,
   "metadata": {},
   "outputs": [
    {
     "name": "stdout",
     "output_type": "stream",
     "text": [
      "Accuracy: 0.8461538461538461\n"
     ]
    }
   ],
   "source": [
    "print(\"Accuracy:\",metrics.accuracy_score(y_test, y_pred))"
   ]
  },
  {
   "cell_type": "code",
   "execution_count": 48,
   "metadata": {},
   "outputs": [
    {
     "name": "stdout",
     "output_type": "stream",
     "text": [
      "Confusion Matrix :\n",
      "[[42  5]\n",
      " [ 9 35]]\n",
      "Accuracy Score : 0.8461538461538461\n",
      "Report : \n",
      "              precision    recall  f1-score   support\n",
      "\n",
      "           0       0.82      0.89      0.86        47\n",
      "           1       0.88      0.80      0.83        44\n",
      "\n",
      "    accuracy                           0.85        91\n",
      "   macro avg       0.85      0.84      0.85        91\n",
      "weighted avg       0.85      0.85      0.85        91\n",
      "\n"
     ]
    }
   ],
   "source": [
    "results = confusion_matrix(y_test, y_pred) \n",
    "  \n",
    "print('Confusion Matrix :')\n",
    "print(results) \n",
    "print('Accuracy Score : {}'.format(accuracy_score(y_test, y_pred)))\n",
    "print('Report : ')\n",
    "print(classification_report(y_test, y_pred))"
   ]
  },
  {
   "cell_type": "code",
   "execution_count": null,
   "metadata": {},
   "outputs": [],
   "source": []
  }
 ],
 "metadata": {
  "kernelspec": {
   "display_name": "Python 3",
   "language": "python",
   "name": "python3"
  },
  "language_info": {
   "codemirror_mode": {
    "name": "ipython",
    "version": 3
   },
   "file_extension": ".py",
   "mimetype": "text/x-python",
   "name": "python",
   "nbconvert_exporter": "python",
   "pygments_lexer": "ipython3",
   "version": "3.7.3"
  }
 },
 "nbformat": 4,
 "nbformat_minor": 4
}
